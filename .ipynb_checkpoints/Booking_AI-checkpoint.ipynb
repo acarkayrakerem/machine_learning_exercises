{
 "cells": [
  {
   "cell_type": "code",
   "execution_count": 27,
   "id": "4b07fa56-aa36-4299-aa76-40f620fa7d10",
   "metadata": {},
   "outputs": [],
   "source": [
    "import os\n",
    "import json\n",
    "from dotenv import load_dotenv\n",
    "from openai import OpenAI\n",
    "import gradio as gr"
   ]
  },
  {
   "cell_type": "code",
   "execution_count": 28,
   "id": "f0a3276e-3ff7-4ebb-85df-cb81ee9284f7",
   "metadata": {},
   "outputs": [
    {
     "name": "stdout",
     "output_type": "stream",
     "text": [
      "OpenAI API Key exists\n"
     ]
    }
   ],
   "source": [
    "load_dotenv(override=True)\n",
    "\n",
    "openai_api_key = os.getenv('OPENAI_API_KEY')\n",
    "if openai_api_key:\n",
    "    print(f\"OpenAI API Key exists\")\n",
    "else:\n",
    "    print(\"OpenAI API Key not set\")\n",
    "    \n",
    "MODEL = \"gpt-4o-mini\"\n",
    "openai = OpenAI()"
   ]
  },
  {
   "cell_type": "code",
   "execution_count": 29,
   "id": "110370ac-1ba0-43c1-89e5-783aa054b8a8",
   "metadata": {},
   "outputs": [
    {
     "name": "stdout",
     "output_type": "stream",
     "text": [
      "-You are a helpful assistant for an Airline called AcarAirlines. \n",
      "-Always start the conversation with \"Thanks for choosing AcarAirlines!\". \n",
      "-Always be accurate. If you don't know the answer, say so.\n"
     ]
    }
   ],
   "source": [
    "def get_system_prompt():\n",
    "        with open('system_prompt.txt', 'r', encoding='utf-8') as file:\n",
    "            system_prompt = file.read()\n",
    "        return system_prompt\n",
    "system_message = get_system_prompt()\n",
    "print(system_message)"
   ]
  },
  {
   "cell_type": "code",
   "execution_count": 31,
   "id": "378654d4-a693-4414-9501-51595531974e",
   "metadata": {},
   "outputs": [
    {
     "name": "stdout",
     "output_type": "stream",
     "text": [
      "Tool get_ticket_price called for Tokyo\n",
      "Destination: Tokyo\n",
      "Price: $1400\n",
      "Airline: Japan Airlines\n",
      "Duration: 14h 20m\n",
      "\n"
     ]
    }
   ],
   "source": [
    "def load_ticket_data():\n",
    "    with open('ticket_database.json', 'r', encoding='utf-8') as file:\n",
    "        return json.load(file)\n",
    "        \n",
    "ticket_data = load_ticket_data()\n",
    "\n",
    "def get_ticket_information(destination_city):\n",
    "    print(f\"Tool get_ticket_price called for {destination_city}\")\n",
    "    city = destination_city.lower()\n",
    "    info = ticket_data.get(city)\n",
    "    if info:\n",
    "        return (\n",
    "            f\"Destination: {destination_city.title()}\\n\"\n",
    "            f\"Price: {info['price']}\\n\"\n",
    "            f\"Airline: {info['airline']}\\n\"\n",
    "            f\"Duration: {info['duration']}\\n\"\n",
    "        )\n",
    "    else:\n",
    "        return \"Unknown destination.\"\n",
    "\n",
    "print(get_ticket_information(\"Tokyo\"))\n"
   ]
  },
  {
   "cell_type": "code",
   "execution_count": 38,
   "id": "11d581cb-4f0c-47af-a49e-c975b2f7bd23",
   "metadata": {},
   "outputs": [],
   "source": [
    "info_function = {\n",
    "    \"name\": \"get_ticket_information\",\n",
    "    \"description\":(\n",
    "        \"Get the information of a ticket to the destination city.\\n\"\n",
    "        \"Call this whenever you need to know the details of the ticket, for example when a customer asks:\\n\"\n",
    "        \"'How much is a ticket to this city?', 'How long is a flight to this city?'\"\n",
    "    ),\n",
    "    \"parameters\": {\n",
    "        \"type\": \"object\",\n",
    "        \"properties\": {\n",
    "            \"destination_city\": {\n",
    "                \"type\": \"string\",\n",
    "                \"description\": \"The city that the customer wants to travel to\",\n",
    "            },\n",
    "        },\n",
    "        \"required\": [\"destination_city\"],\n",
    "        \"additionalProperties\": False\n",
    "    }\n",
    "}\n",
    "tools = [{\"type\": \"function\", \"function\": info_function}]"
   ]
  },
  {
   "cell_type": "code",
   "execution_count": null,
   "id": "a2f23bef-9ce9-4b9a-a0ca-0fd5e00d97c1",
   "metadata": {},
   "outputs": [],
   "source": []
  }
 ],
 "metadata": {
  "kernelspec": {
   "display_name": "Python 3 (ipykernel)",
   "language": "python",
   "name": "python3"
  },
  "language_info": {
   "codemirror_mode": {
    "name": "ipython",
    "version": 3
   },
   "file_extension": ".py",
   "mimetype": "text/x-python",
   "name": "python",
   "nbconvert_exporter": "python",
   "pygments_lexer": "ipython3",
   "version": "3.11.13"
  }
 },
 "nbformat": 4,
 "nbformat_minor": 5
}
