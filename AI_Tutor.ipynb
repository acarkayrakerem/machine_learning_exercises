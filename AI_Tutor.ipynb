{
 "cells": [
  {
   "cell_type": "code",
   "execution_count": 1,
   "id": "c1070317-3ed9-4659-abe3-828943230e03",
   "metadata": {},
   "outputs": [],
   "source": [
    "from dotenv import load_dotenv\n",
    "from IPython.display import Markdown, display, update_display\n",
    "from openai import OpenAI\n",
    "import ollama"
   ]
  },
  {
   "cell_type": "code",
   "execution_count": 2,
   "id": "4a456906-915a-4bfd-bb9d-57e505c5093f",
   "metadata": {},
   "outputs": [],
   "source": [
    "MODEL_GPT = 'gpt-4o-mini'\n",
    "MODEL_LLAMA = 'llama3.2'"
   ]
  },
  {
   "cell_type": "code",
   "execution_count": 3,
   "id": "a8d7923c-5f28-4c30-8556-342d7c8497c1",
   "metadata": {},
   "outputs": [],
   "source": [
    "load_dotenv()\n",
    "openai = OpenAI()"
   ]
  },
  {
   "cell_type": "code",
   "execution_count": 4,
   "id": "3f0d0137-52b0-47a8-81a8-11a90a010798",
   "metadata": {},
   "outputs": [],
   "source": [
    "question = \"\"\"\n",
    "Please explain what this code does and why:\n",
    "yield from {book.get(\"author\") for book in books if book.get(\"author\")}\n",
    "\"\"\""
   ]
  },
  {
   "cell_type": "code",
   "execution_count": 5,
   "id": "05d25a45-c6a2-4803-a0c7-392404ad5d11",
   "metadata": {},
   "outputs": [],
   "source": [
    "system_prompt = \"You are a helpful technical tutor who answers questions about python code, software engineering, data science and LLMs\"\n",
    "user_prompt = \"Please give a detailed explanation to the following question: \" + question\n",
    "MESSAGES = [\n",
    "            {\"role\": \"system\", \"content\": system_prompt},\n",
    "            {\"role\": \"user\", \"content\": user_prompt}\n",
    "        ]"
   ]
  },
  {
   "cell_type": "code",
   "execution_count": 6,
   "id": "60ce7000-a4a5-4cce-a261-e75ef45063b4",
   "metadata": {},
   "outputs": [
    {
     "data": {
      "text/markdown": [
       "Certainly! Let's break down the code snippet you've provided:\n",
       "\n",
       "python\n",
       "yield from {book.get(\"author\") for book in books if book.get(\"author\")}\n",
       "\n",
       "\n",
       "### Understanding Each Component\n",
       "\n",
       "1. **Comprehension**: \n",
       "   - The expression `{book.get(\"author\") for book in books if book.get(\"author\")}` is a **set comprehension** in Python.\n",
       "   - This comprehension iterates over an iterable called `books`, which is expected to be a list (or any iterable) of dictionaries.\n",
       "   - For each `book` in `books`, it attempts to retrieve the value associated with the key `\"author\"` using the method `book.get(\"author\")`.\n",
       "\n",
       "2. **Filtering**:\n",
       "   - The condition `if book.get(\"author\")` acts as a filter. It ensures that only those books that have a non-`None` (or truthy) author value are included in the resulting set. If `book.get(\"author\")` returns `None` or an empty string, that entry will not be included.\n",
       "\n",
       "3. **Set Creation**:\n",
       "   - The use of curly braces `{}` indicates that this is creating a **set**. Sets in Python are collections of unique elements, meaning that if multiple books have the same author, that author will only appear once in the resulting set.\n",
       "\n",
       "4. **Generative Yielding**:\n",
       "   - After the set comprehension is evaluated, `yield from` is used to yield values from an iterable.\n",
       "   - `yield from <iterable>` is a special syntax in Python that delegates part of a generator’s operations to another generator or iterable. This means that each unique author produced by the set comprehension will be yielded back to the caller of the generator function.\n",
       "\n",
       "### Summary of What This Code Does\n",
       "\n",
       "In summary, this code snippet does the following:\n",
       "\n",
       "1. **It creates a set of unique authors** from a list of book dictionaries (`books`), specifically including only the authors for which a truthy value exists.\n",
       "2. **It yields each of these authors one by one**, which can then be consumed by whatever context calls this generator function.\n",
       "3. This allows efficient iteration over unique authors without the overhead of creating an intermediate list or array that contains duplicates.\n",
       "\n",
       "### Use Case\n",
       "\n",
       "This code is useful in scenarios where you are working with a collection of books and you want to extract a list of unique authors for further processing, like printing, reporting, or any analysis that requires knowing which authors are present without counting duplicates.\n",
       "\n",
       "### Example\n",
       "\n",
       "Consider the following example to illustrate:\n",
       "\n",
       "python\n",
       "books = [\n",
       "    {\"title\": \"Book 1\", \"author\": \"Author A\"},\n",
       "    {\"title\": \"Book 2\", \"author\": \"Author B\"},\n",
       "    {\"title\": \"Book 3\", \"author\": \"Author A\"},  # Duplicate author\n",
       "    {\"title\": \"Book 4\", \"author\": None},        # No author\n",
       "    {\"title\": \"Book 5\", \"author\": \"Author C\"},\n",
       "]\n",
       "\n",
       "def get_unique_authors(books):\n",
       "    yield from {book.get(\"author\") for book in books if book.get(\"author\")}\n",
       "\n",
       "# Example usage\n",
       "for author in get_unique_authors(books):\n",
       "    print(author)\n",
       "\n",
       "\n",
       "Output would be:\n",
       "\n",
       "Author A\n",
       "Author B\n",
       "Author C\n",
       "\n",
       "\n",
       "This output shows the unique authors from the `books` list, effectively filtering out duplicates and any entries without an author."
      ],
      "text/plain": [
       "<IPython.core.display.Markdown object>"
      ]
     },
     "metadata": {},
     "output_type": "display_data"
    }
   ],
   "source": [
    "# Gpt-4o-mini\n",
    "stream = openai.chat.completions.create(\n",
    "        model=MODEL_GPT,\n",
    "        messages=MESSAGES,\n",
    "        stream=True\n",
    "    )\n",
    "    \n",
    "response = \"\"\n",
    "display_handle = display(Markdown(\"\"), display_id=True)\n",
    "for chunk in stream:\n",
    "    response += chunk.choices[0].delta.content or ''\n",
    "    response = response.replace(\"```\",\"\").replace(\"markdown\", \"\")\n",
    "    update_display(Markdown(response), display_id=display_handle.display_id)"
   ]
  },
  {
   "cell_type": "code",
   "execution_count": 7,
   "id": "8f7c8ea8-4082-4ad0-8751-3301adcf6538",
   "metadata": {},
   "outputs": [
    {
     "data": {
      "text/markdown": [
       "Let's break down this line of code.\n",
       "\n",
       "**What is happening here?**\n",
       "\n",
       "This line of code uses several advanced Python features to achieve a concise solution. Here's a step-by-step explanation:\n",
       "\n",
       "1. `{book.get(\"author\") for book in books if book.get(\"author\")}`: This is a generator expression, which is a compact way to create an iterable sequence of values.\n",
       "\n",
       "   - `for book in books`: This part iterates over each item (`book`) in the `books` collection.\n",
       "   - `if book.get(\"author\")`: For each book, this condition checks if the \"author\" key exists in the dictionary (i.e., it's not None or an empty string). If it does exist, then the value associated with that key is included in the sequence.\n",
       "   - `book.get(\"author\")`: This gets the author name from the current book dictionary.\n",
       "\n",
       "2. `yield from ...`: The outer part of this line uses a feature called `yield from`. When used inside a generator function (or another context), it \"forwards\" all items produced by the inner iterable to the surrounding caller, which in this case is... nothing.\n",
       "\n",
       "   Since there's no container to collect these values into, `yield from` simply forwards them directly. This means that instead of building up an entire list or other collection in memory, we're generating each author name on the fly as it's needed.\n",
       "\n",
       "**Putting it all together**\n",
       "\n",
       "So when you put this line together with a function call (not shown here), the overall behavior is:\n",
       "\n",
       "```python\n",
       "for author in yield from {book.get(\"author\") for book in books if book.get(\"author\")}:\n",
       "    print(author)\n",
       "```\n",
       "\n",
       "In other words, `yield from` allows us to pass on all values produced by the generator expression directly to a loop (in this case, a simple `for` loop) without having to collect them into a data structure first.\n",
       "\n",
       "**Example usage**\n",
       "\n",
       "Here's an example of how you might use this line in code:\n",
       "```python\n",
       "books = [\n",
       "    {\"title\": \"Book1\", \"author\": \"AuthorX\"},\n",
       "    {\"title\": \"Book2\", \"author\": None},\n",
       "    {\"title\": \"Book3\", \"author\": \"AuthorZ\"}\n",
       "]\n",
       "\n",
       "for author in yield from {book.get(\"author\") for book in books if book.get(\"author\")}:\n",
       "    print(f\"Author: {author}\")\n",
       "```\n",
       "This would output:\n",
       "```\n",
       "Author: AuthorX\n",
       "Author: AuthorZ\n",
       "```"
      ],
      "text/plain": [
       "<IPython.core.display.Markdown object>"
      ]
     },
     "metadata": {},
     "output_type": "display_data"
    }
   ],
   "source": [
    "#Llama 3.2\n",
    "response = ollama.chat(model=MODEL_LLAMA, messages=MESSAGES)\n",
    "reply = response['message']['content']\n",
    "display(Markdown(reply))"
   ]
  }
 ],
 "metadata": {
  "kernelspec": {
   "display_name": "Python 3 (ipykernel)",
   "language": "python",
   "name": "python3"
  },
  "language_info": {
   "codemirror_mode": {
    "name": "ipython",
    "version": 3
   },
   "file_extension": ".py",
   "mimetype": "text/x-python",
   "name": "python",
   "nbconvert_exporter": "python",
   "pygments_lexer": "ipython3",
   "version": "3.11.13"
  }
 },
 "nbformat": 4,
 "nbformat_minor": 5
}
