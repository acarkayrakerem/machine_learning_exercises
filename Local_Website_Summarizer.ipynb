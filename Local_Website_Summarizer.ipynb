{
 "cells": [
  {
   "cell_type": "code",
   "execution_count": 14,
   "id": "863c4c5f-e972-4dfd-8fb5-eea7fa7ee97b",
   "metadata": {},
   "outputs": [],
   "source": [
    "# imports\n",
    "\n",
    "import os\n",
    "import requests\n",
    "from dotenv import load_dotenv\n",
    "from bs4 import BeautifulSoup\n",
    "from IPython.display import Markdown, display\n",
    "import ollama"
   ]
  },
  {
   "cell_type": "code",
   "execution_count": 15,
   "id": "f7312fe3-1b43-4269-8939-4d75ed8b6e5a",
   "metadata": {},
   "outputs": [],
   "source": [
    "headers = {\n",
    " \"User-Agent\": \"Mozilla/5.0 (Windows NT 10.0; Win64; x64) AppleWebKit/537.36 (KHTML, like Gecko) Chrome/117.0.0.0 Safari/537.36\"\n",
    "}\n",
    "class Website:\n",
    "\n",
    "    def __init__(self, url):\n",
    "        self.url = url\n",
    "        response = requests.get(url, headers=headers)\n",
    "        soup = BeautifulSoup(response.content, 'html.parser')\n",
    "        self.title = soup.title.string if soup.title else \"No title found\"\n",
    "        for irrelevant in soup.body([\"script\", \"style\", \"img\", \"input\"]):\n",
    "            irrelevant.decompose()\n",
    "        self.text = soup.body.get_text(separator=\"\\n\", strip=True)"
   ]
  },
  {
   "cell_type": "code",
   "execution_count": 37,
   "id": "e5bb7941-f42b-4d4a-bb60-1bd30c84ec68",
   "metadata": {},
   "outputs": [
    {
     "name": "stdout",
     "output_type": "stream",
     "text": [
      "BBC News - Breaking news, video and the latest top stories from the U.S. and around the world\n"
     ]
    }
   ],
   "source": [
    "website = Website(\"https://www.bbc.com/news\")\n",
    "#TEST\n",
    "print(website.title)\n"
   ]
  },
  {
   "cell_type": "code",
   "execution_count": 42,
   "id": "10f467ac-0bea-4406-beb3-fc4d69d506d6",
   "metadata": {},
   "outputs": [
    {
     "name": "stdout",
     "output_type": "stream",
     "text": [
      "**BBC Website Summary**\n",
      "=====================================\n",
      "\n",
      "### News and Announcements\n",
      "\n",
      "* Estonia seeks NATO consultation after Russian jets violate airspace, following Russia's denial that its drones entered Estonian airspace in the same month.\n",
      "* Israel has ordered hundreds of thousands of people to head south to al-Mawasi as it seeks to fully occupy Gaza City, amidst dire conditions in Israeli-declared humanitarian zone.\n",
      "* US President Trump adds $100,000 fee for skilled worker visa applicants, with some companies reliant on foreign high-skilled workers for years.\n",
      "* Russia's answer to Eurovision is less kitsch, more Kremlin, with Putin resurrecting a Soviet-era global song contest.\n",
      "\n",
      "### Sports\n",
      "\n",
      "* Canada stun six-time world champions New Zealand with a masterful display to reach the Women's Rugby World Cup final.\n",
      "* Manchester United head coach Ruben Amorim says not even the Pope could persuade him to change his controversial formation.\n",
      "* France have come closer than any other team during England's record run of victories. Beating the tournament hosts in the World Cup semi-final would be the ultimate heist.\n",
      "\n",
      "### Culture and Entertainment\n",
      "\n",
      "* 'Jesus, Take the Wheel' songwriter Brett James dies in US plane crash, with friends and co-artists remembering him as \"a songwriting force of nature\".\n",
      "* David Gandy: 'Britain produces some of the greatest models. We want to keep it that way', discussing AI-generated models and life with two young daughters.\n",
      "\n",
      "### World\n",
      "\n",
      "* Judge strikes down 'superfluous' Trump lawsuit against the New York Times, giving him 28 days to amend it.\n",
      "* US forces strike third alleged drug vessel killing three, Trump says, with Venezuela condemning a series of strikes by US forces in the Caribbean targeting alleged drug traffickers.\n"
     ]
    }
   ],
   "source": [
    "model = \"llama3.2\"\n",
    "\n",
    "system_prompt = \"You are an assistant that analyzes the contents of a website \\\n",
    "and provides a short summary, ignoring text that might be navigation related. \\\n",
    "Respond in markdown.\"\n",
    "\n",
    "user_prompt = \"\\nThe contents of this website is as follows; \\\n",
    "Please provide a short summary of this website in markdown. \\\n",
    "If it includes news or announcements, then summarize these too.\\n\\n\"\n",
    "\n",
    "messages = [\n",
    "    {\"role\": \"system\", \"content\": system_prompt},\n",
    "    {\"role\": \"user\", \"content\": user_prompt + website.text },\n",
    "    \n",
    "]\n",
    "\n",
    "response = ollama.chat(model=model, messages=messages)\n",
    "print(response['message']['content'])"
   ]
  }
 ],
 "metadata": {
  "kernelspec": {
   "display_name": "Python 3 (ipykernel)",
   "language": "python",
   "name": "python3"
  },
  "language_info": {
   "codemirror_mode": {
    "name": "ipython",
    "version": 3
   },
   "file_extension": ".py",
   "mimetype": "text/x-python",
   "name": "python",
   "nbconvert_exporter": "python",
   "pygments_lexer": "ipython3",
   "version": "3.11.13"
  }
 },
 "nbformat": 4,
 "nbformat_minor": 5
}
