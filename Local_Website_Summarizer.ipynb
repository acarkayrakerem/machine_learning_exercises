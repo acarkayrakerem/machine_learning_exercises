{
 "cells": [
  {
   "cell_type": "code",
   "execution_count": 1,
   "id": "863c4c5f-e972-4dfd-8fb5-eea7fa7ee97b",
   "metadata": {},
   "outputs": [],
   "source": [
    "import requests\n",
    "from dotenv import load_dotenv\n",
    "from bs4 import BeautifulSoup\n",
    "from IPython.display import Markdown, display\n",
    "import ollama"
   ]
  },
  {
   "cell_type": "code",
   "execution_count": 2,
   "id": "f7312fe3-1b43-4269-8939-4d75ed8b6e5a",
   "metadata": {},
   "outputs": [],
   "source": [
    "headers = {\n",
    " \"User-Agent\": \"Mozilla/5.0 (Windows NT 10.0; Win64; x64) AppleWebKit/537.36 (KHTML, like Gecko) Chrome/117.0.0.0 Safari/537.36\"\n",
    "}\n",
    "class Website:\n",
    "\n",
    "    def __init__(self, url):\n",
    "        self.url = url\n",
    "        response = requests.get(url, headers=headers)\n",
    "        soup = BeautifulSoup(response.content, 'html.parser')\n",
    "        self.title = soup.title.string if soup.title else \"No title found\"\n",
    "        for irrelevant in soup.body([\"script\", \"style\", \"img\", \"input\"]):\n",
    "            irrelevant.decompose()\n",
    "        self.text = soup.body.get_text(separator=\"\\n\", strip=True)"
   ]
  },
  {
   "cell_type": "code",
   "execution_count": 3,
   "id": "e5bb7941-f42b-4d4a-bb60-1bd30c84ec68",
   "metadata": {},
   "outputs": [
    {
     "name": "stdout",
     "output_type": "stream",
     "text": [
      "BBC News - Breaking news, video and the latest top stories from the U.S. and around the world\n"
     ]
    }
   ],
   "source": [
    "website = Website(\"https://www.bbc.com/news\")\n",
    "#TEST\n",
    "print(website.title)\n"
   ]
  },
  {
   "cell_type": "code",
   "execution_count": 4,
   "id": "10f467ac-0bea-4406-beb3-fc4d69d506d6",
   "metadata": {},
   "outputs": [
    {
     "data": {
      "text/markdown": [
       "**Summary of Website Content**\n",
       "=====================================\n",
       "\n",
       "### News and Announcements\n",
       "\n",
       "* US President Trump supports NATO members shooting down Russian aircraft breaching airspace\n",
       "* UN General Assembly: Trump criticizes countries' migration and climate policies in scathing speech\n",
       "* Typhoon bursts Taiwan lake as strongest storm barrels towards China\n",
       "* Nasa plans first crewed Moon mission in 50 years for February 2026\n",
       "* Man found guilty of attempting to assassinate Trump in Florida\n",
       "* Amazon to close its UK grocery stores\n",
       "\n",
       "### Science and Environment\n",
       "\n",
       "* Kremlin threatening Moldova's independence, president warns ahead of key vote\n",
       "* Five die after Indian city receives worst single-spell rainfall in years\n",
       "* Syrian 'Night Stalker' pleads guilty to string of sexual assaults in 90s\n",
       "\n",
       "### Business\n",
       "\n",
       "* Porsche shares plunge after announcing EV rollout delay\n",
       "* European carmakers face intense competition from Chinese rivals and weak demand for luxury cars.\n",
       "\n",
       "### Sports\n",
       "\n",
       "* Carabao Cup: Lincoln hit post v Chelsea, Saints at Liverpool & Brighton lead\n",
       "* Scottish Premiership: Boyle penalty gives Hibs lead; Utd & Aberdeen goalless"
      ],
      "text/plain": [
       "<IPython.core.display.Markdown object>"
      ]
     },
     "metadata": {},
     "output_type": "display_data"
    }
   ],
   "source": [
    "model = \"llama3.2\"\n",
    "\n",
    "system_prompt = \"You are an assistant that analyzes the contents of a website \\\n",
    "and provides a short summary, ignoring text that might be navigation related. \\\n",
    "Respond in markdown.\"\n",
    "\n",
    "user_prompt = \"\\nThe contents of this website is as follows; \\\n",
    "Please provide a short summary of this website in markdown. \\\n",
    "If it includes news or announcements, then summarize these too.\\n\\n\"\n",
    "\n",
    "messages = [\n",
    "    {\"role\": \"system\", \"content\": system_prompt},\n",
    "    {\"role\": \"user\", \"content\": user_prompt + website.text },\n",
    "    \n",
    "]\n",
    "\n",
    "response = ollama.chat(model=model, messages=messages)\n",
    "reply = response['message']['content']\n",
    "display(Markdown(reply))"
   ]
  }
 ],
 "metadata": {
  "kernelspec": {
   "display_name": "Python 3 (ipykernel)",
   "language": "python",
   "name": "python3"
  },
  "language_info": {
   "codemirror_mode": {
    "name": "ipython",
    "version": 3
   },
   "file_extension": ".py",
   "mimetype": "text/x-python",
   "name": "python",
   "nbconvert_exporter": "python",
   "pygments_lexer": "ipython3",
   "version": "3.11.13"
  }
 },
 "nbformat": 4,
 "nbformat_minor": 5
}
