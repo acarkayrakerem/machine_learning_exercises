{
 "cells": [
  {
   "cell_type": "code",
   "execution_count": 14,
   "id": "863c4c5f-e972-4dfd-8fb5-eea7fa7ee97b",
   "metadata": {},
   "outputs": [],
   "source": [
    "# imports\n",
    "\n",
    "import os\n",
    "import requests\n",
    "from dotenv import load_dotenv\n",
    "from bs4 import BeautifulSoup\n",
    "from IPython.display import Markdown, display\n",
    "import ollama"
   ]
  },
  {
   "cell_type": "code",
   "execution_count": 15,
   "id": "f7312fe3-1b43-4269-8939-4d75ed8b6e5a",
   "metadata": {},
   "outputs": [],
   "source": [
    "headers = {\n",
    " \"User-Agent\": \"Mozilla/5.0 (Windows NT 10.0; Win64; x64) AppleWebKit/537.36 (KHTML, like Gecko) Chrome/117.0.0.0 Safari/537.36\"\n",
    "}\n",
    "class Website:\n",
    "\n",
    "    def __init__(self, url):\n",
    "        self.url = url\n",
    "        response = requests.get(url, headers=headers)\n",
    "        soup = BeautifulSoup(response.content, 'html.parser')\n",
    "        self.title = soup.title.string if soup.title else \"No title found\"\n",
    "        for irrelevant in soup.body([\"script\", \"style\", \"img\", \"input\"]):\n",
    "            irrelevant.decompose()\n",
    "        self.text = soup.body.get_text(separator=\"\\n\", strip=True)"
   ]
  },
  {
   "cell_type": "code",
   "execution_count": 37,
   "id": "e5bb7941-f42b-4d4a-bb60-1bd30c84ec68",
   "metadata": {},
   "outputs": [
    {
     "name": "stdout",
     "output_type": "stream",
     "text": [
      "BBC News - Breaking news, video and the latest top stories from the U.S. and around the world\n"
     ]
    }
   ],
   "source": [
    "website = Website(\"https://www.bbc.com/news\")\n",
    "#TEST\n",
    "print(website.title)\n"
   ]
  },
  {
   "cell_type": "code",
   "execution_count": 41,
   "id": "10f467ac-0bea-4406-beb3-fc4d69d506d6",
   "metadata": {},
   "outputs": [
    {
     "name": "stdout",
     "output_type": "stream",
     "text": [
      "### **Summary:**\n",
      "**Today's Date and Time:** December 1, 2023, at 02:30 GMT\n",
      "The website of the British Broadcasting Corporation (BBC) provides comprehensive news coverage from around the world. The latest news includes:\n",
      "\n",
      "- Estonia seeks NATO consultation after Russian jets violate airspace.\n",
      "- Israel has ordered hundreds of thousands of people to head south as it seeks to fully occupy Gaza City.\n",
      "\n",
      "- The US has imposed a $100,000 fee for skilled worker visa applicants, raising concerns about the treatment of foreign workers.\n",
      "\n",
      "### **News Announcements:**\n",
      "The latest news includes reports on:\n",
      "\n",
      "- The situation in Gaza, where dire conditions have been described by Gazans living in an Israeli-declared humanitarian zone.\n",
      "- A new film based on a viral true story from TikTok has become a nationwide obsession in Indonesia.\n",
      "- The FCC and the suspension of Jimmy Kimmel's show have triggered concerns about the US communications regulator's power over TV networks.\n",
      "\n",
      "### **Additional Information:**\n",
      "The BBC website also provides updates on various other topics, including sports (such as a \"fairytale\" win by Canada against New Zealand), culture (including news about a new statue for Queen Elizabeth II), travel, and more.\n"
     ]
    }
   ],
   "source": [
    "model = \"llama3.2\"\n",
    "\n",
    "system_prompt = \"You are an assistant that analyzes the contents of a website \\\n",
    "and provides a short summary, ignoring text that might be navigation related. \\\n",
    "Respond in markdown.\"\n",
    "\n",
    "user_prompt = \"\\nThe contents of this website is as follows; \\\n",
    "Please provide a short summary of this website in markdown. \\\n",
    "Add the today's date and time to the summary.\\\n",
    "If it includes news or announcements, then summarize these too.\\n\\n\"\n",
    "\n",
    "messages = [\n",
    "    {\"role\": \"system\", \"content\": system_prompt},\n",
    "    {\"role\": \"user\", \"content\": user_prompt + website.text },\n",
    "    \n",
    "]\n",
    "\n",
    "response = ollama.chat(model=model, messages=messages)\n",
    "print(response['message']['content'])"
   ]
  },
  {
   "cell_type": "code",
   "execution_count": null,
   "id": "35063187-2e0e-4602-80f1-d8a3b89ddd98",
   "metadata": {},
   "outputs": [],
   "source": []
  }
 ],
 "metadata": {
  "kernelspec": {
   "display_name": "Python 3 (ipykernel)",
   "language": "python",
   "name": "python3"
  },
  "language_info": {
   "codemirror_mode": {
    "name": "ipython",
    "version": 3
   },
   "file_extension": ".py",
   "mimetype": "text/x-python",
   "name": "python",
   "nbconvert_exporter": "python",
   "pygments_lexer": "ipython3",
   "version": "3.11.13"
  }
 },
 "nbformat": 4,
 "nbformat_minor": 5
}
