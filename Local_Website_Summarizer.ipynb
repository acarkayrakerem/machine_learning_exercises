{
 "cells": [
  {
   "cell_type": "code",
   "execution_count": 1,
   "id": "863c4c5f-e972-4dfd-8fb5-eea7fa7ee97b",
   "metadata": {},
   "outputs": [],
   "source": [
    "import requests\n",
    "from bs4 import BeautifulSoup\n",
    "from IPython.display import Markdown, display\n",
    "import ollama"
   ]
  },
  {
   "cell_type": "code",
   "execution_count": 2,
   "id": "f7312fe3-1b43-4269-8939-4d75ed8b6e5a",
   "metadata": {},
   "outputs": [],
   "source": [
    "headers = {\n",
    " \"User-Agent\": \"Mozilla/5.0 (Windows NT 10.0; Win64; x64) AppleWebKit/537.36 (KHTML, like Gecko) Chrome/117.0.0.0 Safari/537.36\"\n",
    "}\n",
    "class Website:\n",
    "\n",
    "    def __init__(self, url):\n",
    "        self.url = url\n",
    "        response = requests.get(url, headers=headers)\n",
    "        soup = BeautifulSoup(response.content, 'html.parser')\n",
    "        self.title = soup.title.string if soup.title else \"No title found\"\n",
    "        for irrelevant in soup.body([\"script\", \"style\", \"img\", \"input\"]):\n",
    "            irrelevant.decompose()\n",
    "        self.text = soup.body.get_text(separator=\"\\n\", strip=True)"
   ]
  },
  {
   "cell_type": "code",
   "execution_count": 3,
   "id": "e5bb7941-f42b-4d4a-bb60-1bd30c84ec68",
   "metadata": {},
   "outputs": [
    {
     "name": "stdout",
     "output_type": "stream",
     "text": [
      "BBC News - Breaking news, video and the latest top stories from the U.S. and around the world\n"
     ]
    }
   ],
   "source": [
    "website = Website(\"https://www.bbc.com/news\")\n",
    "#TEST\n",
    "print(website.title)\n"
   ]
  },
  {
   "cell_type": "code",
   "execution_count": 4,
   "id": "10f467ac-0bea-4406-beb3-fc4d69d506d6",
   "metadata": {},
   "outputs": [
    {
     "data": {
      "text/markdown": [
       "**Summary of British Broadcasting Corporation (BBC) Website**\n",
       "==========================================================\n",
       "\n",
       "### News and Announcements\n",
       "\n",
       "The website provides a wide range of news and announcements on various topics, including:\n",
       "\n",
       "* **Israel-Gaza War**: The BBC reports on the ongoing conflict between Israel and Palestine.\n",
       "* **War in Ukraine**: The BBC provides updates on the conflict between Russia and Ukraine.\n",
       "* **US & Canada**: The BBC covers news from the United States and Canada, including a scathing speech by US President Donald Trump at the UN.\n",
       "* **UK Politics**: The BBC reports on UK politics, including elections, Brexit, and government policies.\n",
       "\n",
       "### Science and Environment\n",
       "\n",
       "The website features articles on science and environment topics, such as:\n",
       "\n",
       "* **Climate Solutions**: The BBC explores ways to mitigate climate change.\n",
       "* **Sustainable Business**: The BBC discusses the impact of business on the environment.\n",
       "\n",
       "### Sports\n",
       "\n",
       "The website provides coverage of sports news and events, including:\n",
       "\n",
       "* **Carabao Cup**: The BBC reports on the latest developments in the Carabao Cup, a knockout competition for English football clubs.\n",
       "* **Golf**: The BBC covers golf news, including the upcoming Ashes series between England and Australia.\n",
       "\n",
       "### Business\n",
       "\n",
       "The website features articles on business and economics topics, such as:\n",
       "\n",
       "* **Amazon to Close UK Grocery Stores**: The BBC reports on Amazon's decision to close its grocery stores in the UK.\n",
       "\n",
       "### Culture and Arts\n",
       "\n",
       "The website provides coverage of culture and arts news, including:\n",
       "\n",
       "* **Arts**: The BBC discusses arts news, including exhibitions, performances, and awards.\n",
       "* **Music**: The BBC covers music news, including new releases, concerts, and festivals.\n",
       "\n",
       "Overall, the BBC website provides a wide range of news, information, and entertainment content on various topics."
      ],
      "text/plain": [
       "<IPython.core.display.Markdown object>"
      ]
     },
     "metadata": {},
     "output_type": "display_data"
    }
   ],
   "source": [
    "model = \"llama3.2\"\n",
    "\n",
    "system_prompt = \"You are an assistant that analyzes the contents of a website \\\n",
    "and provides a short summary, ignoring text that might be navigation related. \\\n",
    "Respond in markdown.\"\n",
    "\n",
    "user_prompt = \"\\nThe contents of this website is as follows; \\\n",
    "Please provide a short summary of this website in markdown. \\\n",
    "If it includes news or announcements, then summarize these too.\\n\\n\"\n",
    "\n",
    "messages = [\n",
    "    {\"role\": \"system\", \"content\": system_prompt},\n",
    "    {\"role\": \"user\", \"content\": user_prompt + website.text },\n",
    "    \n",
    "]\n",
    "\n",
    "response = ollama.chat(model=model, messages=messages)\n",
    "reply = response['message']['content']\n",
    "display(Markdown(reply))"
   ]
  }
 ],
 "metadata": {
  "kernelspec": {
   "display_name": "Python 3 (ipykernel)",
   "language": "python",
   "name": "python3"
  },
  "language_info": {
   "codemirror_mode": {
    "name": "ipython",
    "version": 3
   },
   "file_extension": ".py",
   "mimetype": "text/x-python",
   "name": "python",
   "nbconvert_exporter": "python",
   "pygments_lexer": "ipython3",
   "version": "3.11.13"
  }
 },
 "nbformat": 4,
 "nbformat_minor": 5
}
