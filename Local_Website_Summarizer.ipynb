{
 "cells": [
  {
   "cell_type": "code",
   "execution_count": 53,
   "id": "863c4c5f-e972-4dfd-8fb5-eea7fa7ee97b",
   "metadata": {},
   "outputs": [],
   "source": [
    "import requests\n",
    "from dotenv import load_dotenv\n",
    "from bs4 import BeautifulSoup\n",
    "from IPython.display import Markdown, display\n",
    "import ollama"
   ]
  },
  {
   "cell_type": "code",
   "execution_count": 54,
   "id": "f7312fe3-1b43-4269-8939-4d75ed8b6e5a",
   "metadata": {},
   "outputs": [],
   "source": [
    "headers = {\n",
    " \"User-Agent\": \"Mozilla/5.0 (Windows NT 10.0; Win64; x64) AppleWebKit/537.36 (KHTML, like Gecko) Chrome/117.0.0.0 Safari/537.36\"\n",
    "}\n",
    "class Website:\n",
    "\n",
    "    def __init__(self, url):\n",
    "        self.url = url\n",
    "        response = requests.get(url, headers=headers)\n",
    "        soup = BeautifulSoup(response.content, 'html.parser')\n",
    "        self.title = soup.title.string if soup.title else \"No title found\"\n",
    "        for irrelevant in soup.body([\"script\", \"style\", \"img\", \"input\"]):\n",
    "            irrelevant.decompose()\n",
    "        self.text = soup.body.get_text(separator=\"\\n\", strip=True)"
   ]
  },
  {
   "cell_type": "code",
   "execution_count": 55,
   "id": "e5bb7941-f42b-4d4a-bb60-1bd30c84ec68",
   "metadata": {},
   "outputs": [
    {
     "name": "stdout",
     "output_type": "stream",
     "text": [
      "BBC News - Breaking news, video and the latest top stories from the U.S. and around the world\n"
     ]
    }
   ],
   "source": [
    "website = Website(\"https://www.bbc.com/news\")\n",
    "#TEST\n",
    "print(website.title)\n"
   ]
  },
  {
   "cell_type": "code",
   "execution_count": 56,
   "id": "10f467ac-0bea-4406-beb3-fc4d69d506d6",
   "metadata": {},
   "outputs": [
    {
     "name": "stdout",
     "output_type": "stream",
     "text": [
      "### Summary of Website Contents\n",
      "\n",
      "#### News and Announcements\n",
      "\n",
      "*   Estonia seeks NATO consultation after Russian jets violate airspace\n",
      "*   Israel has ordered hundreds of thousands of people to head south to al-Mawasi as it seeks to fully occupy Gaza City, amid dire conditions in the Israeli-declared humanitarian zone.\n",
      "*   Russia denies involvement in violating Estonian airspace\n",
      "*   US forces strike third alleged drug vessel killing three, Trump says\n",
      "*   Global treaty to protect world's oceans to come into force after final approval\n",
      "*   Portugal confirms it will recognise Palestinian state\n",
      "*   Model David Gandy: I guard my private life - no one knows what my kids look like\n",
      "*   Sikh grandmother's arrest by US immigration sparks community anger\n",
      "*   Judge strikes down 'superfluous' Trump lawsuit against the New York Times\n",
      "\n",
      "#### Culture and Entertainment\n",
      "\n",
      "*   How a man's affair with his mother-in-law became a viral film in Indonesia\n",
      "*   Queen statue will show grandeur and dignity, sculptor says\n",
      "*   'Jesus, Take the Wheel' songwriter Brett James dies in US plane crash\n",
      "*   Canada deliver 'seismic' win over New Zealand to reach Women's Rugby World Cup final\n",
      "\n",
      "#### Business and Technology\n",
      "\n",
      "*   Trump adds $100,000 fee for skilled worker visa applicants\n",
      "*   Senator Ted Cruz says US broadcast regulator acted like 'mafioso' on Jimmy Kimmel\n",
      "*   Russia's answer to Eurovision is less kitsch, more Kremlin\n",
      "*   Heathrow among airports hit by cyber-attack on check-in system\n",
      "\n",
      "#### Sports\n",
      "\n",
      "*   Lyles makes happier Tokyo memories after heartbreak\n",
      "*   England have come closer than any other team during France's record run of victories in the World Cup.\n",
      "*   BJK Cup: Great Britain face United States for place in final\n",
      "*   Azerbaijan Grand Prix final practice before qualifying\n"
     ]
    }
   ],
   "source": [
    "model = \"llama3.2\"\n",
    "\n",
    "system_prompt = \"You are an assistant that analyzes the contents of a website \\\n",
    "and provides a short summary, ignoring text that might be navigation related. \\\n",
    "Respond in markdown.\"\n",
    "\n",
    "user_prompt = \"\\nThe contents of this website is as follows; \\\n",
    "Please provide a short summary of this website in markdown. \\\n",
    "If it includes news or announcements, then summarize these too.\\n\\n\"\n",
    "\n",
    "messages = [\n",
    "    {\"role\": \"system\", \"content\": system_prompt},\n",
    "    {\"role\": \"user\", \"content\": user_prompt + website.text },\n",
    "    \n",
    "]\n",
    "\n",
    "response = ollama.chat(model=model, messages=messages)\n",
    "print(response['message']['content'])"
   ]
  }
 ],
 "metadata": {
  "kernelspec": {
   "display_name": "Python 3 (ipykernel)",
   "language": "python",
   "name": "python3"
  },
  "language_info": {
   "codemirror_mode": {
    "name": "ipython",
    "version": 3
   },
   "file_extension": ".py",
   "mimetype": "text/x-python",
   "name": "python",
   "nbconvert_exporter": "python",
   "pygments_lexer": "ipython3",
   "version": "3.11.13"
  }
 },
 "nbformat": 4,
 "nbformat_minor": 5
}
