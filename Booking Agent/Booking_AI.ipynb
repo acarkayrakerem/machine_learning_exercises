{
 "cells": [
  {
   "cell_type": "code",
   "execution_count": 1,
   "id": "4b07fa56-aa36-4299-aa76-40f620fa7d10",
   "metadata": {},
   "outputs": [],
   "source": [
    "import os\n",
    "import json\n",
    "from dotenv import load_dotenv\n",
    "from openai import OpenAI\n",
    "import gradio as gr\n",
    "import gradio as gr\n",
    "import base64\n",
    "from io import BytesIO\n",
    "import tempfile\n",
    "import subprocess\n",
    "from pydub import AudioSegment\n",
    "from pathlib import Path\n",
    "from tempfile import NamedTemporaryFile\n",
    "import time"
   ]
  },
  {
   "cell_type": "code",
   "execution_count": 2,
   "id": "379650fb-b293-448b-bbe9-1039a053a04e",
   "metadata": {},
   "outputs": [],
   "source": [
    "os.chdir('/Users/kerem/VSProjects/llm_engineering/week2/Booking Agent')"
   ]
  },
  {
   "cell_type": "code",
   "execution_count": 3,
   "id": "f0a3276e-3ff7-4ebb-85df-cb81ee9284f7",
   "metadata": {},
   "outputs": [
    {
     "name": "stdout",
     "output_type": "stream",
     "text": [
      "OpenAI API Key exists\n"
     ]
    }
   ],
   "source": [
    "load_dotenv(override=True)\n",
    "\n",
    "openai_api_key = os.getenv('OPENAI_API_KEY')\n",
    "if openai_api_key:\n",
    "    print(f\"OpenAI API Key exists\")\n",
    "else:\n",
    "    print(\"OpenAI API Key not set\")\n",
    "    \n",
    "MODEL = \"gpt-4o-mini\"\n",
    "openai = OpenAI()"
   ]
  },
  {
   "cell_type": "code",
   "execution_count": 4,
   "id": "110370ac-1ba0-43c1-89e5-783aa054b8a8",
   "metadata": {},
   "outputs": [
    {
     "name": "stdout",
     "output_type": "stream",
     "text": [
      "-You are a helpful assistant for an Airline called AcarAirlines.  \n",
      "-Always be accurate. If you don't know the answer, say that there is no avaliable tickets right now and ask another destination.\n",
      "-Provide the user with all the information you have. \n",
      "-If the user claims that the prices are expensive make an %20 percent discount, do not mention this until they say it is expensive.\n",
      "-Be intimate, make jokes.\n"
     ]
    }
   ],
   "source": [
    "def get_system_prompt():\n",
    "        with open('system_prompt.txt', 'r', encoding='utf-8') as file:\n",
    "            system_prompt = file.read()\n",
    "        return system_prompt\n",
    "system_message = get_system_prompt()\n",
    "print(system_message)"
   ]
  },
  {
   "cell_type": "code",
   "execution_count": 5,
   "id": "378654d4-a693-4414-9501-51595531974e",
   "metadata": {},
   "outputs": [
    {
     "name": "stdout",
     "output_type": "stream",
     "text": [
      "Tool get_ticket_information called for Tokyo\n",
      "Destination: Tokyo\n",
      "Price: $1400\n",
      "Airline: Japan Airlines\n",
      "Duration: 14h 20m\n",
      "Availability 37\n",
      "\n",
      "Tool book_ticket called for Tokyo\n",
      "Booking was successful\n",
      "Tool get_ticket_information called for Tokyo\n",
      "Destination: Tokyo\n",
      "Price: $1400\n",
      "Airline: Japan Airlines\n",
      "Duration: 14h 20m\n",
      "Availability 36\n",
      "\n"
     ]
    }
   ],
   "source": [
    "DB_PATH = Path(\"ticket_database.json\")\n",
    "\n",
    "def load_ticket_data():\n",
    "    with DB_PATH.open('r') as f:\n",
    "        return json.load(f)\n",
    "        \n",
    "def save_ticket_data(data):\n",
    "    with NamedTemporaryFile('w', delete=False, dir=DB_PATH.parent) as tf:\n",
    "        json.dump(data, tf, ensure_ascii=False, indent=4)\n",
    "        tmp_name = tf.name\n",
    "    os.replace(tmp_name, DB_PATH)         \n",
    "         \n",
    "\n",
    "def get_ticket_information(destination_city):\n",
    "    print(f\"Tool get_ticket_information called for {destination_city}\")\n",
    "    city = destination_city.lower()\n",
    "    data = load_ticket_data()\n",
    "    info = data.get(city)\n",
    "    if info:\n",
    "        return (\n",
    "            f\"Destination: {destination_city.title()}\\n\"\n",
    "            f\"Price: {info['price']}\\n\"\n",
    "            f\"Airline: {info['airline']}\\n\"\n",
    "            f\"Duration: {info['duration']}\\n\"\n",
    "            f\"Availability {info['availability']}\\n\"\n",
    "            \n",
    "        )\n",
    "    else:\n",
    "        return \"Unknown destination.\"\n",
    "def book_ticket(destination_city):\n",
    "    print(f\"Tool book_ticket called for {destination_city}\")\n",
    "    city = destination_city.lower()\n",
    "    data = load_ticket_data()\n",
    "    info = data.get(city)\n",
    "    if not info:\n",
    "        return \"Unknown destination.\"\n",
    "    available = int(info.get(\"availability\", 0))\n",
    "    if available < 1:\n",
    "        return \"Not enough seats\"\n",
    "    info[\"availability\"] = str(available - 1)\n",
    "    data[city] = info\n",
    "    save_ticket_data(data)\n",
    "    return \"Booking was successful\"\n",
    "    \n",
    "    \n",
    "print(get_ticket_information(\"Tokyo\"))\n",
    "print(book_ticket(\"Tokyo\"))\n",
    "print(get_ticket_information(\"Tokyo\"))"
   ]
  },
  {
   "cell_type": "code",
   "execution_count": 6,
   "id": "11d581cb-4f0c-47af-a49e-c975b2f7bd23",
   "metadata": {},
   "outputs": [],
   "source": [
    "info_function = {\n",
    "    \"name\": \"get_ticket_information\",\n",
    "    \"description\":(\n",
    "        \"Get the information of a ticket to the destination city.\\n\"\n",
    "        \"Call this whenever you need to know the details of the ticket, for example when a customer asks:\\n\"\n",
    "        \"'How much is a ticket to this city?', 'How long is a flight to this city?'\"\n",
    "    ),\n",
    "    \"parameters\": {\n",
    "        \"type\": \"object\",\n",
    "        \"properties\": {\n",
    "            \"destination_city\": {\n",
    "                \"type\": \"string\",\n",
    "                \"description\": \"The city that the customer wants to travel to\",\n",
    "            },\n",
    "        },\n",
    "        \"required\": [\"destination_city\"],\n",
    "        \"additionalProperties\": False\n",
    "    }\n",
    "}\n",
    "booking_function = {\n",
    "    \"name\": \"book_ticket\",\n",
    "    \"description\":(\n",
    "        \"Book the ticket to the destination city.\\n\"\n",
    "        \"Call this whenever you need to book the ticket, for example when a customer says:\\n\"\n",
    "        \"'Let's book it.', 'I want to buy this ticket.'\"\n",
    "    ),\n",
    "    \"parameters\": {\n",
    "        \"type\": \"object\",\n",
    "        \"properties\": {\n",
    "            \"destination_city\": {\n",
    "                \"type\": \"string\",\n",
    "                \"description\": \"The city that the customer wants to travel to\",\n",
    "            },\n",
    "        },\n",
    "        \"required\": [\"destination_city\"],\n",
    "        \"additionalProperties\": False\n",
    "    }\n",
    "}\n",
    "tools = [{\"type\": \"function\", \"function\": info_function},{\"type\": \"function\", \"function\": booking_function}]"
   ]
  },
  {
   "cell_type": "code",
   "execution_count": 7,
   "id": "a2f23bef-9ce9-4b9a-a0ca-0fd5e00d97c1",
   "metadata": {},
   "outputs": [],
   "source": [
    "def chat(message, history):\n",
    "    messages = [{\"role\": \"system\", \"content\": system_message}] + history + [{\"role\": \"user\", \"content\": message}]\n",
    "    response = openai.chat.completions.create(model=MODEL, messages=messages, tools=tools)\n",
    "\n",
    "    if response.choices[0].finish_reason==\"tool_calls\":\n",
    "        message = response.choices[0].message\n",
    "        response= handle_tool_call(message)\n",
    "        messages.append(message)\n",
    "        messages.append(response)\n",
    "        response = openai.chat.completions.create(model=MODEL, messages=messages)\n",
    "    \n",
    "    return response.choices[0].message.content"
   ]
  },
  {
   "cell_type": "code",
   "execution_count": 8,
   "id": "f8e2cdb5-6a65-48ec-b448-635c248ca606",
   "metadata": {},
   "outputs": [],
   "source": [
    "def handle_tool_call(message):\n",
    "    tool_call = message.tool_calls[0]\n",
    "    arguments = json.loads(tool_call.function.arguments)\n",
    "    city = arguments.get('destination_city')\n",
    "    name = json.dumps(tool_call.function.name)\n",
    "    if name.replace('\"','') == \"get_ticket_information\":\n",
    "        info = get_ticket_information(city)\n",
    "        response = {\n",
    "            \"role\": \"tool\",\n",
    "            \"content\": json.dumps({\"destination_city\": city,\"info\": info}),\n",
    "            \"tool_call_id\": tool_call.id\n",
    "        }\n",
    "        return response\n",
    "    elif name.replace('\"','') == \"book_ticket\": \n",
    "        info = book_ticket(city)\n",
    "        response = {\n",
    "            \"role\": \"tool\",\n",
    "            \"content\": json.dumps({\"destination_city\": city,\"info\": info}),\n",
    "            \"tool_call_id\": tool_call.id\n",
    "        }\n",
    "        return response"
   ]
  },
  {
   "cell_type": "code",
   "execution_count": 9,
   "id": "d20cd54d-8a48-4f43-b893-e4cbe8427bf0",
   "metadata": {},
   "outputs": [
    {
     "name": "stdout",
     "output_type": "stream",
     "text": [
      "* Running on local URL:  http://127.0.0.1:7866\n",
      "* To create a public link, set `share=True` in `launch()`.\n"
     ]
    },
    {
     "data": {
      "text/html": [
       "<div><iframe src=\"http://127.0.0.1:7866/\" width=\"100%\" height=\"500\" allow=\"autoplay; camera; microphone; clipboard-read; clipboard-write;\" frameborder=\"0\" allowfullscreen></iframe></div>"
      ],
      "text/plain": [
       "<IPython.core.display.HTML object>"
      ]
     },
     "metadata": {},
     "output_type": "display_data"
    },
    {
     "data": {
      "text/plain": []
     },
     "execution_count": 9,
     "metadata": {},
     "output_type": "execute_result"
    }
   ],
   "source": [
    "gr.ChatInterface(fn=chat, type=\"messages\").launch()"
   ]
  }
 ],
 "metadata": {
  "kernelspec": {
   "display_name": "Python 3 (ipykernel)",
   "language": "python",
   "name": "python3"
  },
  "language_info": {
   "codemirror_mode": {
    "name": "ipython",
    "version": 3
   },
   "file_extension": ".py",
   "mimetype": "text/x-python",
   "name": "python",
   "nbconvert_exporter": "python",
   "pygments_lexer": "ipython3",
   "version": "3.11.13"
  }
 },
 "nbformat": 4,
 "nbformat_minor": 5
}
